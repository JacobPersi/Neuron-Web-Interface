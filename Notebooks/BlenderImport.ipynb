{
 "Segments": [
  {
   "cell_type": "code",
   "execution_count": 2,
   "metadata": {},
   "outputs": [
    {
     "ename": "ModuleNotFoundError",
     "evalue": "No module named 'bpy'",
     "output_type": "error",
     "traceback": [
      "\u001b[1;31m---------------------------------------------------------------------------\u001b[0m",
      "\u001b[1;31mModuleNotFoundError\u001b[0m                       Traceback (most recent call last)",
      "\u001b[1;32mc:\\Users\\Jacob\\Neural-Modelling\\Visualization\\BlenderImport.ipynb Cell 1\u001b[0m in \u001b[0;36m<cell line: 1>\u001b[1;34m()\u001b[0m\n\u001b[1;32m----> <a href='vscode-notebook-cell:/c%3A/Users/Jacob/Neural-Modelling/Visualization/BlenderImport.ipynb#W0sZmlsZQ%3D%3D?line=0'>1</a>\u001b[0m \u001b[39mimport\u001b[39;00m \u001b[39mbpy\u001b[39;00m\n\u001b[0;32m      <a href='vscode-notebook-cell:/c%3A/Users/Jacob/Neural-Modelling/Visualization/BlenderImport.ipynb#W0sZmlsZQ%3D%3D?line=2'>3</a>\u001b[0m \u001b[39mfor\u001b[39;00m shape \u001b[39min\u001b[39;00m shapes:\n\u001b[0;32m      <a href='vscode-notebook-cell:/c%3A/Users/Jacob/Neural-Modelling/Visualization/BlenderImport.ipynb#W0sZmlsZQ%3D%3D?line=3'>4</a>\u001b[0m     \u001b[39mfor\u001b[39;00m section \u001b[39min\u001b[39;00m shape:\n",
      "\u001b[1;31mModuleNotFoundError\u001b[0m: No module named 'bpy'"
     ]
    }
   ],
   "source": [
    "import bpy\n",
    "        \n",
    "for shape in shapes:\n",
    "    for section in shape:\n",
    "        vertices = shape[section]\n",
    "        edges = [(i, i + 1) for i in range(0,len(shape[section])-1, 1)]\n",
    "        faces = []\n",
    "\n",
    "        # The below code can be cleaned up a lot...\n",
    "        new_mesh = bpy.data.meshes.new('new_mesh')\n",
    "        new_mesh.from_pydata(vertices, edges, faces)\n",
    "        new_mesh.update()\n",
    "        new_object = bpy.data.objects.new('new_object', new_mesh)\n",
    "        new_collection = bpy.data.collections.new('new_collection')\n",
    "        bpy.context.scene.collection.children.link(new_collection)\n",
    "        new_collection.objects.link(new_object)"
   ]
  }
 ],
 "metadata": {
  "kernelspec": {
   "display_name": "Python 3",
   "language": "python",
   "name": "python3"
  },
  "language_info": {
   "codemirror_mode": {
    "name": "ipython",
    "version": 3
   },
   "file_extension": ".py",
   "mimetype": "text/x-python",
   "name": "python",
   "nbconvert_exporter": "python",
   "pygments_lexer": "ipython3",
   "version": "3.10.8"
  },
  "orig_nbformat": 4,
  "vscode": {
   "interpreter": {
    "hash": "26de051ba29f2982a8de78e945f0abaf191376122a1563185a90213a26c5da77"
   }
  }
 },
 "nbformat": 4,
 "nbformat_minor": 2
}
