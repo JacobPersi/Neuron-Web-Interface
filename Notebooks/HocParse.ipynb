{
 "cells": [
  {
   "attachments": {},
   "cell_type": "markdown",
   "metadata": {},
   "source": [
    "# Hacky Neuron 'Hoc' file parser:\n",
    "A simple script to extract the morphology data for a specific hoc file. \n",
    "Note: This parsing is based on the way this file is formatted and so will not work for all hoc files."
   ]
  },
  {
   "cell_type": "code",
   "execution_count": null,
   "metadata": {},
   "outputs": [],
   "source": [
    "hoc_file = open(\"C:/Users/Jacob/Neuron-Web-Interface/Data/DeitcherEtAl2017/Morphs_and_trees/1148.hoc\", \"r\")\n",
    "lines = hoc_file.readlines()\n",
    "\n",
    "index = 0\n",
    "shape_open = False\n",
    "section_open = False\n",
    "\n",
    "data = {}\n",
    "\n",
    "for line in lines:\n",
    "    # Start of shape:\n",
    "    if \"proc shape3d_\" in line:\n",
    "        shape_open = True\n",
    "        pass\n",
    "    # End of shape:\n",
    "    if line == \"}\\n\":\n",
    "        shape_open = False\n",
    "        pass\n",
    "\n",
    "    # Inside the shape:\n",
    "    if shape_open == True:\n",
    "        # Start of section:\n",
    "        if \"{\" in line and not \"proc\" in line:\n",
    "            section_open = True\n",
    "            section_name = line[:line.index(\"{\")].strip()\n",
    "            # We don't pass here because some shapes have the name and points on the same line.\n",
    "\n",
    "        # Inside of the section:\n",
    "        if section_open == True:\n",
    "            if \"pt3dadd\" in line:\n",
    "                coordinates = line[line.index(\"pt3dadd(\") + len(\"pt3dadd(\"):-2].strip()\n",
    "                coordinates = [float(x) for x in coordinates.split(\", \")]\n",
    "                if section_name not in data:\n",
    "                    data[section_name] = []\n",
    "                data[section_name].append(coordinates); \n",
    "                pass\n",
    "\n",
    "        # End of section:\n",
    "        if line == \"  }\\n\":\n",
    "            section_open = False\n",
    "            pass\n",
    "\n",
    "    index += 1"
   ]
  },
  {
   "cell_type": "code",
   "execution_count": 29,
   "metadata": {},
   "outputs": [
    {
     "name": "stdout",
     "output_type": "stream",
     "text": [
      "Section soma has 21 points!\n",
      "Section axon has 172 points!\n",
      "Section dend has 17 points!\n",
      "\t 132 more sections...\n"
     ]
    }
   ],
   "source": [
    "for segment in list(data)[:3]:\n",
    "    print(\"Section\", segment, \"has\", len(data[segment]),\"points!\")\n",
    "\n",
    "print(\"\\t\", len(data)-3, \"more sections...\")"
   ]
  }
 ],
 "metadata": {
  "kernelspec": {
   "display_name": "Python 3",
   "language": "python",
   "name": "python3"
  },
  "language_info": {
   "codemirror_mode": {
    "name": "ipython",
    "version": 3
   },
   "file_extension": ".py",
   "mimetype": "text/x-python",
   "name": "python",
   "nbconvert_exporter": "python",
   "pygments_lexer": "ipython3",
   "version": "3.10.8"
  },
  "orig_nbformat": 4,
  "vscode": {
   "interpreter": {
    "hash": "26de051ba29f2982a8de78e945f0abaf191376122a1563185a90213a26c5da77"
   }
  }
 },
 "nbformat": 4,
 "nbformat_minor": 2
}
