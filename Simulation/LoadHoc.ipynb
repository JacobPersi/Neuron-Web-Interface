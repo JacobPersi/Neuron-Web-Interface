{
 "cells": [
  {
   "cell_type": "code",
   "execution_count": 1,
   "metadata": {},
   "outputs": [
    {
     "data": {
      "text/plain": [
       "1.0"
      ]
     },
     "execution_count": 1,
     "metadata": {},
     "output_type": "execute_result"
    }
   ],
   "source": [
    "from neuron import h\n",
    "from neuron.units import ms, mV\n",
    "h.load_file(\"C:/Users/Jacob/Neural-Modelling/DeitcherEtAl2017/Morphs_and_trees/1148.hoc\")"
   ]
  },
  {
   "cell_type": "code",
   "execution_count": 24,
   "metadata": {},
   "outputs": [
    {
     "name": "stdout",
     "output_type": "stream",
     "text": [
      "\n",
      "|-|       soma(0-1)\n",
      "  `|       axon(0-1)\n",
      "  `|       dend[0](0-1)\n",
      "    `|       dend[1](0-1)\n",
      "      `|       dend[2](0-1)\n",
      "        `|       dend[3](0-1)\n",
      "          `|       dend[4](0-1)\n",
      "            `|       dend[5](0-1)\n",
      "            `|       dend[6](0-1)\n",
      "          `|       dend[7](0-1)\n",
      "        `|       dend[8](0-1)\n",
      "      `|       dend[9](0-1)\n",
      "        `|       dend[10](0-1)\n",
      "          `|       dend[11](0-1)\n",
      "          `|       dend[12](0-1)\n",
      "        `|       dend[13](0-1)\n",
      "          `|       dend[14](0-1)\n",
      "          `|       dend[15](0-1)\n",
      "    `|       dend[16](0-1)\n",
      "      `|       dend[17](0-1)\n",
      "      `|       dend[18](0-1)\n",
      "  `|       dend[19](0-1)\n",
      "    `|       dend[20](0-1)\n",
      "      `|       dend[21](0-1)\n",
      "        `|       dend[22](0-1)\n",
      "          `|       dend[23](0-1)\n",
      "          `|       dend[24](0-1)\n",
      "        `|       dend[25](0-1)\n",
      "          `|       dend[26](0-1)\n",
      "            `|       dend[27](0-1)\n",
      "            `|       dend[28](0-1)\n",
      "          `|       dend[29](0-1)\n",
      "      `|       dend[30](0-1)\n",
      "        `|       dend[31](0-1)\n",
      "    `|       dend[32](0-1)\n",
      "      `|       dend[33](0-1)\n",
      "      `|       dend[34](0-1)\n",
      "        `|       dend[35](0-1)\n",
      "        `|       dend[36](0-1)\n",
      "  `|       dend[37](0-1)\n",
      "    `|       dend[38](0-1)\n",
      "      `|       dend[39](0-1)\n",
      "        `|       dend[40](0-1)\n",
      "          `|       dend[41](0-1)\n",
      "            `|       dend[42](0-1)\n",
      "              `|       dend[43](0-1)\n",
      "                `|       dend[44](0-1)\n",
      "                `|       dend[45](0-1)\n",
      "              `|       dend[46](0-1)\n",
      "            `|       dend[47](0-1)\n",
      "          `|       dend[48](0-1)\n",
      "        `|       dend[49](0-1)\n",
      "          `|       dend[50](0-1)\n",
      "            `|       dend[51](0-1)\n",
      "            `|       dend[52](0-1)\n",
      "          `|       dend[53](0-1)\n",
      "      `|       dend[54](0-1)\n",
      "        `|       dend[55](0-1)\n",
      "        `|       dend[56](0-1)\n",
      "    `|       dend[57](0-1)\n",
      "      `|       dend[58](0-1)\n",
      "        `|       dend[59](0-1)\n",
      "        `|       dend[60](0-1)\n",
      "      `|       dend[61](0-1)\n",
      "        `|       dend[62](0-1)\n",
      "          `|       dend[63](0-1)\n",
      "          `|       dend[64](0-1)\n",
      "        `|       dend[65](0-1)\n",
      "  `|       dend[66](0-1)\n",
      "    `|       dend[67](0-1)\n",
      "    `|       dend[68](0-1)\n",
      "    `|       dend[69](0-1)\n",
      "  `|       apic[0](0-1)\n",
      "    `|       apic[1](0-1)\n",
      "      `|       apic[2](0-1)\n",
      "        `|       apic[3](0-1)\n",
      "          `|       apic[4](0-1)\n",
      "            `|       apic[5](0-1)\n",
      "              `|       apic[6](0-1)\n",
      "                `|       apic[7](0-1)\n",
      "                  `|       apic[8](0-1)\n",
      "                    `|       apic[9](0-1)\n",
      "                      `|       apic[10](0-1)\n",
      "                        `|       apic[11](0-1)\n",
      "                          `|       apic[12](0-1)\n",
      "                            `|       apic[13](0-1)\n",
      "                              `|       apic[14](0-1)\n",
      "                                `|       apic[15](0-1)\n",
      "                                  `|       apic[16](0-1)\n",
      "                                  `|       apic[17](0-1)\n",
      "                                `|       apic[18](0-1)\n",
      "                                  `|       apic[19](0-1)\n",
      "                                    `|       apic[20](0-1)\n",
      "                                    `|       apic[21](0-1)\n",
      "                                  `|       apic[22](0-1)\n",
      "                              `|       apic[23](0-1)\n",
      "                            `|       apic[24](0-1)\n",
      "                          `|       apic[25](0-1)\n",
      "                        `|       apic[26](0-1)\n",
      "                          `|       apic[27](0-1)\n",
      "                          `|       apic[28](0-1)\n",
      "                      `|       apic[29](0-1)\n",
      "                    `|       apic[30](0-1)\n",
      "                      `|       apic[31](0-1)\n",
      "                      `|       apic[32](0-1)\n",
      "                  `|       apic[33](0-1)\n",
      "                    `|       apic[34](0-1)\n",
      "                    `|       apic[35](0-1)\n",
      "              `|       apic[36](0-1)\n",
      "                `|       apic[37](0-1)\n",
      "                `|       apic[38](0-1)\n",
      "            `|       apic[39](0-1)\n",
      "              `|       apic[40](0-1)\n",
      "              `|       apic[41](0-1)\n",
      "          `|       apic[42](0-1)\n",
      "            `|       apic[43](0-1)\n",
      "              `|       apic[44](0-1)\n",
      "                `|       apic[45](0-1)\n",
      "                `|       apic[46](0-1)\n",
      "              `|       apic[47](0-1)\n",
      "            `|       apic[48](0-1)\n",
      "        `|       apic[49](0-1)\n",
      "          `|       apic[50](0-1)\n",
      "            `|       apic[51](0-1)\n",
      "            `|       apic[52](0-1)\n",
      "          `|       apic[53](0-1)\n",
      "            `|       apic[54](0-1)\n",
      "            `|       apic[55](0-1)\n",
      "      `|       apic[56](0-1)\n",
      "        `|       apic[57](0-1)\n",
      "    `|       apic[58](0-1)\n",
      "      `|       apic[59](0-1)\n",
      "      `|       apic[60](0-1)\n",
      "        `|       apic[61](0-1)\n",
      "        `|       apic[62](0-1)\n",
      "|-|       test_section(0-1)\n",
      "\n"
     ]
    },
    {
     "data": {
      "text/plain": [
       "1.0"
      ]
     },
     "execution_count": 24,
     "metadata": {},
     "output_type": "execute_result"
    }
   ],
   "source": [
    "h.topology()"
   ]
  },
  {
   "cell_type": "code",
   "execution_count": 23,
   "metadata": {},
   "outputs": [
    {
     "data": {
      "text/plain": [
       "1"
      ]
     },
     "execution_count": 23,
     "metadata": {},
     "output_type": "execute_result"
    }
   ],
   "source": [
    "h(\"create test_section\")"
   ]
  },
  {
   "cell_type": "code",
   "execution_count": 3,
   "metadata": {},
   "outputs": [
    {
     "data": {
      "text/plain": [
       "0.0"
      ]
     },
     "execution_count": 3,
     "metadata": {},
     "output_type": "execute_result"
    }
   ],
   "source": [
    "h.load_file(\"stdrun.hoc\")\n",
    "\n",
    "stim = h.IClamp(h.soma(0))\n",
    "stim.delay = 5\n",
    "stim.dur = 1\n",
    "stim.amp = 0.1\n",
    "stim\n",
    "\n",
    "v = h.Vector().record(h.soma(0.5)._ref_v)\n",
    "t = h.Vector().record(h._ref_t)\n",
    "\n",
    "h.finitialize(-65 * mV)\n",
    "h.continuerun(25 * ms)\n"
   ]
  },
  {
   "cell_type": "code",
   "execution_count": 4,
   "metadata": {},
   "outputs": [
    {
     "data": {
      "image/png": "[encoded data removed]",
      "text/plain": [
       "<Figure size 432x288 with 1 Axes>"
      ]
     },
     "metadata": {
      "needs_background": "light"
     },
     "output_type": "display_data"
    }
   ],
   "source": [
    "import matplotlib.pyplot as plt\n",
    "%matplotlib inline\n",
    "\n",
    "plt.figure()\n",
    "plt.plot(t, v)\n",
    "plt.xlabel('t (ms)')\n",
    "plt.ylabel('v (mV)')\n",
    "plt.show()"
   ]
  }
 ],
 "metadata": {
  "kernelspec": {
   "display_name": "Python 3",
   "language": "python",
   "name": "python3"
  },
  "language_info": {
   "codemirror_mode": {
    "name": "ipython",
    "version": 3
   },
   "file_extension": ".py",
   "mimetype": "text/x-python",
   "name": "python",
   "nbconvert_exporter": "python",
   "pygments_lexer": "ipython3",
   "version": "3.10.8"
  },
  "orig_nbformat": 4,
  "vscode": {
   "interpreter": {
    "hash": "26de051ba29f2982a8de78e945f0abaf191376122a1563185a90213a26c5da77"
   }
  }
 },
 "nbformat": 4,
 "nbformat_minor": 2
}
