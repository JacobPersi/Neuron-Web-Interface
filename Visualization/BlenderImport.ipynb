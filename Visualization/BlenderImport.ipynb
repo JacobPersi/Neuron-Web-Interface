{
 "cells": [
  {
   "cell_type": "code",
   "execution_count": null,
   "metadata": {},
   "outputs": [],
   "source": [
    "import bpy\n",
    "        \n",
    "for shape in shapes:\n",
    "    for section in shape:\n",
    "        vertices = shape[section]\n",
    "        edges = [(i, i + 1) for i in range(0,len(shape[section])-1, 1)]\n",
    "        faces = []\n",
    "\n",
    "        # The below code can be cleaned up a lot...\n",
    "        new_mesh = bpy.data.meshes.new('new_mesh')\n",
    "        new_mesh.from_pydata(vertices, edges, faces)\n",
    "        new_mesh.update()\n",
    "        new_object = bpy.data.objects.new('new_object', new_mesh)\n",
    "        new_collection = bpy.data.collections.new('new_collection')\n",
    "        bpy.context.scene.collection.children.link(new_collection)\n",
    "        new_collection.objects.link(new_object)"
   ]
  }
 ],
 "metadata": {
  "kernelspec": {
   "display_name": "Python 3",
   "language": "python",
   "name": "python3"
  },
  "language_info": {
   "name": "python",
   "version": "3.10.4 (tags/v3.10.4:9d38120, Mar 23 2022, 23:13:41) [MSC v.1929 64 bit (AMD64)]"
  },
  "orig_nbformat": 4,
  "vscode": {
   "interpreter": {
    "hash": "26de051ba29f2982a8de78e945f0abaf191376122a1563185a90213a26c5da77"
   }
  }
 },
 "nbformat": 4,
 "nbformat_minor": 2
}
