{
 "cells": [
  {
   "cell_type": "code",
   "execution_count": null,
   "metadata": {},
   "outputs": [],
   "source": [
    "import bpy\n",
    " \n",
    "for shape in shapes:\n",
    "    for section in shape:\n",
    "        \n",
    "        # make mesh\n",
    "        vertices = shape[section]\n",
    "        edges = []\n",
    "        faces = []\n",
    "\n",
    "        new_mesh = bpy.data.meshes.new('new_mesh')\n",
    "        new_mesh.from_pydata(vertices, edges, faces)\n",
    "        new_mesh.update()\n",
    "\n",
    "        # make object from mesh\n",
    "        new_object = bpy.data.objects.new('new_object', new_mesh)\n",
    "\n",
    "        # make collection\n",
    "        new_collection = bpy.data.collections.new('new_collection')\n",
    "        bpy.context.scene.collection.children.link(new_collection)\n",
    "\n",
    "        # add object to scene collection\n",
    "        new_collection.objects.link(new_object)"
   ]
  }
 ],
 "metadata": {
  "kernelspec": {
   "display_name": "Python 3",
   "language": "python",
   "name": "python3"
  },
  "language_info": {
   "name": "python",
   "version": "3.10.6"
  },
  "orig_nbformat": 4,
  "vscode": {
   "interpreter": {
    "hash": "195eeab601b06bba96951e927b32535fcfba9cccb7ea6e1704f1f7856700cc59"
   }
  }
 },
 "nbformat": 4,
 "nbformat_minor": 2
}
