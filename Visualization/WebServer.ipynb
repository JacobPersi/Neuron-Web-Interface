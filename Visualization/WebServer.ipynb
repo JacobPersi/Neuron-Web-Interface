{
 "cells": [
  {
   "cell_type": "code",
   "execution_count": 1,
   "metadata": {},
   "outputs": [
    {
     "name": "stdout",
     "output_type": "stream",
     "text": [
      "Section soma has 21 points!\n",
      "Section axon has 172 points!\n",
      "Section dend has 17 points!\n",
      "\t 132 more sections...\n"
     ]
    }
   ],
   "source": [
    "%run HocParse.ipynb\n",
    "# This sets data"
   ]
  },
  {
   "cell_type": "code",
   "execution_count": 2,
   "metadata": {},
   "outputs": [
    {
     "name": "stdout",
     "output_type": "stream",
     "text": [
      "Running server:\n"
     ]
    }
   ],
   "source": [
    "import asyncio\n",
    "import websockets\n",
    "import json\n",
    "\n",
    "geometry_data = { \"message\" : \"GEO_DATA\", \"segments\": data }\n",
    "\n",
    "async def handler(websocket):\n",
    "    while True:\n",
    "        try:\n",
    "            data = await websocket.recv()\n",
    "            data = json.loads(data)\n",
    "\n",
    "            request_type = data[\"message\"]\n",
    "\n",
    "            match request_type:\n",
    "                case \"INIT\":\n",
    "                    response = json.dumps([json.dumps(geometry_data)])\n",
    "                    print(\"\\tSending data..\")\n",
    "                    await websocket.send(response)\n",
    "\n",
    "        except websockets.exceptions.ConnectionClosedOK: \n",
    "            continue\n",
    "\n",
    "        except json.decoder.JSONDecodeError:\n",
    "            print(\"Invalid message:\", data)\n",
    "            break\n",
    "       \n",
    "async def main():\n",
    "    async with websockets.serve(handler, \"\", 8001):\n",
    "        await asyncio.Future()  # run forever\n",
    "\n",
    "print(\"Running server:\")\n",
    "await main()\n",
    "print(\"Done!\")"
   ]
  }
 ],
 "metadata": {
  "kernelspec": {
   "display_name": "Python 3",
   "language": "python",
   "name": "python3"
  },
  "language_info": {
   "codemirror_mode": {
    "name": "ipython",
    "version": 3
   },
   "file_extension": ".py",
   "mimetype": "text/x-python",
   "name": "python",
   "nbconvert_exporter": "python",
   "pygments_lexer": "ipython3",
   "version": "3.10.6"
  },
  "orig_nbformat": 4,
  "vscode": {
   "interpreter": {
    "hash": "26de051ba29f2982a8de78e945f0abaf191376122a1563185a90213a26c5da77"
   }
  }
 },
 "nbformat": 4,
 "nbformat_minor": 2
}
