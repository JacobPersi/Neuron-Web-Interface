{
 "cells": [
  {
   "cell_type": "code",
   "execution_count": 1,
   "metadata": {},
   "outputs": [
    {
     "name": "stdout",
     "output_type": "stream",
     "text": [
      "Section soma has 21 points!\n",
      "Section axon has 172 points!\n",
      "Section dend has 17 points!\n",
      "\t 132 more sections...\n"
     ]
    },
    {
     "data": {
      "text/plain": [
       "1.0"
      ]
     },
     "execution_count": 1,
     "metadata": {},
     "output_type": "execute_result"
    }
   ],
   "source": [
    "import asyncio\n",
    "import websockets\n",
    "import json\n",
    "\n",
    "from neuron import h\n",
    "from neuron.units import ms, mV\n",
    "\n",
    "%run ../../NoteBooks/HocParse.ipynb\n",
    "# This sets example_data\n",
    "\n",
    "h.load_file('C:/Users/Research/Neuron-Web-Interface/Data/DeitcherEtAl2017/Morphs_and_trees/1148.hoc')\n",
    "h.load_file('stdrun.hoc')"
   ]
  },
  {
   "cell_type": "code",
   "execution_count": 2,
   "metadata": {},
   "outputs": [
    {
     "name": "stdout",
     "output_type": "stream",
     "text": [
      "Starting...\n",
      "LOAD_EXAMPLE recieved!\n",
      "RENDER recieved!\n",
      "135 sections found...\n",
      "RENDER recieved!\n",
      "135 sections found...\n",
      "LOAD_EXAMPLE recieved!\n",
      "RENDER recieved!\n",
      "135 sections found...\n",
      "LOAD_EXAMPLE recieved!\n",
      "LOAD_EXAMPLE recieved!\n",
      "LOAD_EXAMPLE recieved!\n",
      "LOAD_EXAMPLE recieved!\n"
     ]
    }
   ],
   "source": [
    "async def message_loop(websocket):\n",
    "    while True:\n",
    "        try:\n",
    "            data = await websocket.recv()\n",
    "            data = json.loads(data)\n",
    "\n",
    "            request_type = data[\"message\"]\n",
    "            print(request_type, \"recieved!\")\n",
    "\n",
    "            match request_type:\n",
    "                case \"LOAD_EXAMPLE\":\n",
    "                    await load_example(websocket)\n",
    "\n",
    "                case \"RENDER\":\n",
    "                    if (\"data\" in data):\n",
    "                        await render(websocket, data[\"data\"])\n",
    "                    pass\n",
    "\n",
    "        except websockets.exceptions.ConnectionClosedOK: \n",
    "            continue\n",
    "\n",
    "        except json.decoder.JSONDecodeError:\n",
    "            print(\"Invalid message:\", data)\n",
    "            break\n",
    "        \n",
    "        except Exception as e:\n",
    "            print(\"Unkown error:\", e)\n",
    "       \n",
    "async def load_example(socket):\n",
    "    await socket.send(json.dumps([json.dumps( {\"message\" : \"EXAMPLE_DATA\", \"segments\": example_data } )]))\n",
    "\n",
    "async def render(socket, data):\n",
    "    section_lookup = {sec.name(): sec for sec in h.allsec()}\n",
    "    output_data = []\n",
    "    print(len(section_lookup), \"sections found...\")\n",
    "    for section_name in section_lookup:\n",
    "        section = section_lookup[section_name]\n",
    "        section.Ra = data[\"Biophysics\"][\"Ra\"] # Axial resistance in Ohm * cm\n",
    "        section.cm = data[\"Biophysics\"][\"cm\"] # Membrane capacitance in micro Farads / cm^2\n",
    "\n",
    "        if (\"soma\" == section_name):\n",
    "            has_hh = section.has_membrane(\"hh\")         \n",
    "            if (has_hh == False):\n",
    "                section.insert(\"hh\")\n",
    "            \n",
    "            for seg in section:\n",
    "                seg.hh.gnabar = data[\"Biophysics\"][\"gnabar\"] # Sodium conductance in S/cm2\n",
    "                seg.hh.gkbar = data[\"Biophysics\"][\"gkbar\"] # Potassium conductance in S/cm2\n",
    "                seg.hh.gl = data[\"Biophysics\"][\"gl\"] # Leak conductance in S/cm2\n",
    "                seg.hh.el = data[\"Biophysics\"][\"el\"] # Reversal potential in mV\n",
    "\n",
    "        if (\"dend\" in section_name or \"apic\" in section_name):\n",
    "            has_pas = section.has_membrane(\"pas\")\n",
    "            if (has_pas == False):\n",
    "                section.insert(\"pas\")\n",
    "            \n",
    "            for seg in section:\n",
    "                seg.pas.g = data[\"Biophysics\"][\"g\"] # Passive conductance in S/cm2\n",
    "                seg.pas.e = data[\"Biophysics\"][\"e\"] # Leak reversal potential mV \n",
    "\n",
    "    for stim_target in data[\"Simulation\"][\"Stimulation\"][\"Targets\"]:\n",
    "        target_seg = section_lookup[stim_target[\"Segment\"]](stim_target[\"Location\"])\n",
    "        stim = h.IClamp(target_seg)\n",
    "        stim.delay = stim_target[\"Delay\"]\n",
    "        stim.dur = stim_target[\"Duration\"]\n",
    "        stim.amp = stim_target[\"Amplitude\"]\n",
    "\n",
    "    for record_target in data[\"Simulation\"][\"Recording\"][\"Targets\"]:\n",
    "        target_seg = section_lookup[record_target[\"Segment\"]](record_target[\"Location\"])\n",
    "        v = h.Vector().record(target_seg._ref_v)\n",
    "        t = h.Vector().record(h._ref_t)\n",
    "        \n",
    "        output_data.append({ \"target\": record_target[\"Segment\"], \"location\": record_target[\"Location\"], \"voltage\": v, \"time\": t})\n",
    "\n",
    "    init_voltage = data[\"Simulation\"][\"Recording\"][\"InitialVoltage\"]\n",
    "    sim_span = data[\"Simulation\"][\"Recording\"][\"Span\"]\n",
    "    h.finitialize(init_voltage * mV)\n",
    "    h.continuerun(sim_span * ms)\n",
    "\n",
    "    output_data = [{ \n",
    "        \"target\": recording[\"target\"], \n",
    "        \"location\": recording[\"location\"], \n",
    "        \"voltage\": recording[\"voltage\"].to_python(), \n",
    "        \"time\": recording[\"time\"].to_python()} \n",
    "        for recording in output_data]\n",
    "    \n",
    "    await socket.send(json.dumps([json.dumps( {\"message\" : \"RENDER_DATA\", \"data\": output_data } )]))\n",
    "\n",
    "async def main():\n",
    "    async with websockets.serve(message_loop, \"\", 8001):\n",
    "        await asyncio.Future()\n",
    "\n",
    "print(\"Starting...\")\n",
    "await main()"
   ]
  },
  {
   "cell_type": "code",
   "execution_count": null,
   "metadata": {},
   "outputs": [],
   "source": []
  }
 ],
 "metadata": {
  "kernelspec": {
   "display_name": "Python 3",
   "language": "python",
   "name": "python3"
  },
  "language_info": {
   "codemirror_mode": {
    "name": "ipython",
    "version": 3
   },
   "file_extension": ".py",
   "mimetype": "text/x-python",
   "name": "python",
   "nbconvert_exporter": "python",
   "pygments_lexer": "ipython3",
   "version": "3.10.6"
  },
  "orig_nbformat": 4,
  "vscode": {
   "interpreter": {
    "hash": "26de051ba29f2982a8de78e945f0abaf191376122a1563185a90213a26c5da77"
   }
  }
 },
 "nbformat": 4,
 "nbformat_minor": 2
}
