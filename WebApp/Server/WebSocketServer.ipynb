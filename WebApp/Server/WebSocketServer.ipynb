{
 "cells": [
  {
   "cell_type": "code",
   "execution_count": 1,
   "metadata": {},
   "outputs": [
    {
     "name": "stdout",
     "output_type": "stream",
     "text": [
      "Section soma has 21 points!\n",
      "Section axon has 172 points!\n",
      "Section dend has 17 points!\n",
      "\t 132 more sections...\n"
     ]
    }
   ],
   "source": [
    "%run ../../NoteBooks/HocParse.ipynb\n",
    "# This sets data"
   ]
  },
  {
   "cell_type": "code",
   "execution_count": 2,
   "metadata": {},
   "outputs": [
    {
     "name": "stdout",
     "output_type": "stream",
     "text": [
      "Running server:\n"
     ]
    }
   ],
   "source": [
    "import asyncio\n",
    "import websockets\n",
    "import json\n",
    "\n",
    "from neuron import h\n",
    "from neuron.units import ms, mV\n",
    "\n",
    "geometry_data = { \"message\" : \"GEO_DATA\", \"segments\": data }\n",
    "\n",
    "async def handler(websocket):\n",
    "    while True:\n",
    "        try:\n",
    "            data = await websocket.recv()\n",
    "            data = json.loads(data)\n",
    "\n",
    "            request_type = data[\"message\"]\n",
    "\n",
    "            match request_type:\n",
    "                case \"INIT\":\n",
    "                    response = json.dumps([json.dumps(geometry_data)])\n",
    "                    print(\"\\tSending data..\")\n",
    "                    await websocket.send(response)\n",
    "                    break\n",
    "\n",
    "                case \"RUN_SIM\":\n",
    "                    print(data);\n",
    "                    h.load_file(\"C:/Users/Jacob/Neuron-Web-Interface/Data/DeitcherEtAl2017/Morphs_and_trees/1148.hoc\")\n",
    "                    h.load_file('stdrun.hoc')\n",
    "\n",
    "                    stim = h.IClamp(h.axon(1))\n",
    "                    stim.delay = 5\n",
    "                    stim.dur = 1\n",
    "                    stim.amp = 0.1\n",
    "\n",
    "                    v = h.Vector().record(h.soma(0.5)._ref_v)\n",
    "                    t = h.Vector().record(h._ref_t)\n",
    "\n",
    "                    h.finitialize(-65 * mV)\n",
    "                    h.continuerun(25 * ms)\n",
    "                    \n",
    "                    print(\"DONE\")\n",
    "                    print(t)\n",
    "                    print(v)\n",
    "                    print(type(t))\n",
    "                    break\n",
    "\n",
    "        except websockets.exceptions.ConnectionClosedOK: \n",
    "            continue\n",
    "\n",
    "        except json.decoder.JSONDecodeError:\n",
    "            print(\"Invalid message:\", data)\n",
    "            break\n",
    "       \n",
    "async def main():\n",
    "    async with websockets.serve(handler, \"\", 8001):\n",
    "        await asyncio.Future()  # run forever\n",
    "\n",
    "print(\"Running server:\")\n",
    "await main()\n",
    "print(\"Done!\")"
   ]
  }
 ],
 "metadata": {
  "kernelspec": {
   "display_name": "Python 3",
   "language": "python",
   "name": "python3"
  },
  "language_info": {
   "codemirror_mode": {
    "name": "ipython",
    "version": 3
   },
   "file_extension": ".py",
   "mimetype": "text/x-python",
   "name": "python",
   "nbconvert_exporter": "python",
   "pygments_lexer": "ipython3",
   "version": "3.10.8"
  },
  "orig_nbformat": 4,
  "vscode": {
   "interpreter": {
    "hash": "26de051ba29f2982a8de78e945f0abaf191376122a1563185a90213a26c5da77"
   }
  }
 },
 "nbformat": 4,
 "nbformat_minor": 2
}
